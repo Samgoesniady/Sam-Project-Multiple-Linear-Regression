{
 "cells": [
  {
   "cell_type": "markdown",
   "metadata": {
    "id": "IyeBVS-Qj10c"
   },
   "source": [
    "# Multiple Linear Regression"
   ]
  },
  {
   "cell_type": "markdown",
   "metadata": {
    "id": "uF5mx2at2N2c"
   },
   "source": [
    "Pada studi kasus analisis regresi linier berganda akan digunakan data dengan tiga variabel independen (X) TotalBsmtSF, LotArea dan MSSubClass, sedangkan variabel dependen (Y) Sale Price, dengan detail variabel seperti berikut :<br>\n",
    "TotalBsmtSF : Total square feet of basement area <br>\n",
    "LotArea : Lot size in square feet <br>\n",
    "MSSubClass : Identifies the type of dwelling involved in the sale <br>\n",
    "\n",
    "Pada studi kasus kali ini, ingin diketahui sejauh mana pengaruh TotalBsmtSF, LotArea, dan MSSubClas, terhadap Sale Price ? Dan bagaimana hasil prediksinya ?"
   ]
  },
  {
   "cell_type": "markdown",
   "metadata": {
    "id": "OmIhlsyij10e"
   },
   "source": [
    "## Import Libraries and Data"
   ]
  },
  {
   "cell_type": "code",
   "execution_count": null,
   "metadata": {
    "colab": {
     "base_uri": "https://localhost:8080/"
    },
    "executionInfo": {
     "elapsed": 114132,
     "status": "ok",
     "timestamp": 1628714583095,
     "user": {
      "displayName": "Fitria Nur",
      "photoUrl": "",
      "userId": "14798815293212797090"
     },
     "user_tz": -420
    },
    "id": "YgPX9yBI5sMh",
    "outputId": "a914e456-d99e-4d54-8a8e-8cb30ce2a3a6"
   },
   "outputs": [
    {
     "name": "stdout",
     "output_type": "stream",
     "text": [
      "Mounted at /content/gdrive\n"
     ]
    }
   ],
   "source": [
    "# connect colab ke g drive\n",
    "from google.colab import drive\n",
    "drive.mount('/content/gdrive')"
   ]
  },
  {
   "cell_type": "code",
   "execution_count": null,
   "metadata": {
    "colab": {
     "base_uri": "https://localhost:8080/"
    },
    "executionInfo": {
     "elapsed": 1943,
     "status": "ok",
     "timestamp": 1628714588683,
     "user": {
      "displayName": "Fitria Nur",
      "photoUrl": "",
      "userId": "14798815293212797090"
     },
     "user_tz": -420
    },
    "id": "OiwOTH4zj10e",
    "outputId": "a3f7629c-becb-442e-8a5a-4ae30802d67b"
   },
   "outputs": [
    {
     "name": "stderr",
     "output_type": "stream",
     "text": [
      "/usr/local/lib/python3.7/dist-packages/statsmodels/tools/_testing.py:19: FutureWarning: pandas.util.testing is deprecated. Use the functions in the public API at pandas.testing instead.\n",
      "  import pandas.util.testing as tm\n"
     ]
    }
   ],
   "source": [
    "# Load library/package\n",
    "import os\n",
    "import warnings\n",
    "import pandas as pd\n",
    "import numpy as np\n",
    "import seaborn as sns\n",
    "import matplotlib.pyplot as plt\n",
    "from sklearn import metrics\n",
    "\n",
    "# Sklearn\n",
    "from sklearn.linear_model import LinearRegression\n",
    "from sklearn.model_selection import train_test_split\n",
    "from sklearn.preprocessing import StandardScaler\n",
    "\n",
    "# Statmodels\n",
    "import statsmodels\n",
    "import statsmodels.api as sm"
   ]
  },
  {
   "cell_type": "code",
   "execution_count": null,
   "metadata": {
    "id": "T1NMJQDG6ATE"
   },
   "outputs": [],
   "source": [
    "# Membuat path untuk mengidentifikasi letak directory\n",
    "# Catatan : pastikan path yang anda masukkan sesuai dengan directory data anda. \n",
    "# Kemungkinan besar path di contoh ini berbeda dengan penyimpanan data anda\n",
    "path = \"gdrive/My Drive/dataset\""
   ]
  },
  {
   "cell_type": "code",
   "execution_count": null,
   "metadata": {
    "colab": {
     "base_uri": "https://localhost:8080/",
     "height": 206
    },
    "executionInfo": {
     "elapsed": 381,
     "status": "ok",
     "timestamp": 1628717995665,
     "user": {
      "displayName": "Fitria Nur",
      "photoUrl": "",
      "userId": "14798815293212797090"
     },
     "user_tz": -420
    },
    "id": "rLc5JVbmA960",
    "outputId": "3878d5ac-363d-43ab-bc8c-5164f6c1099b"
   },
   "outputs": [
    {
     "data": {
      "text/html": [
       "<div>\n",
       "<style scoped>\n",
       "    .dataframe tbody tr th:only-of-type {\n",
       "        vertical-align: middle;\n",
       "    }\n",
       "\n",
       "    .dataframe tbody tr th {\n",
       "        vertical-align: top;\n",
       "    }\n",
       "\n",
       "    .dataframe thead th {\n",
       "        text-align: right;\n",
       "    }\n",
       "</style>\n",
       "<table border=\"1\" class=\"dataframe\">\n",
       "  <thead>\n",
       "    <tr style=\"text-align: right;\">\n",
       "      <th></th>\n",
       "      <th>MSSubClass</th>\n",
       "      <th>LotArea</th>\n",
       "      <th>TotalBsmtSF</th>\n",
       "      <th>SalePrice</th>\n",
       "    </tr>\n",
       "  </thead>\n",
       "  <tbody>\n",
       "    <tr>\n",
       "      <th>0</th>\n",
       "      <td>60</td>\n",
       "      <td>8450</td>\n",
       "      <td>856</td>\n",
       "      <td>208500</td>\n",
       "    </tr>\n",
       "    <tr>\n",
       "      <th>1</th>\n",
       "      <td>20</td>\n",
       "      <td>9600</td>\n",
       "      <td>1262</td>\n",
       "      <td>181500</td>\n",
       "    </tr>\n",
       "    <tr>\n",
       "      <th>2</th>\n",
       "      <td>60</td>\n",
       "      <td>11250</td>\n",
       "      <td>920</td>\n",
       "      <td>223500</td>\n",
       "    </tr>\n",
       "    <tr>\n",
       "      <th>3</th>\n",
       "      <td>70</td>\n",
       "      <td>9550</td>\n",
       "      <td>756</td>\n",
       "      <td>140000</td>\n",
       "    </tr>\n",
       "    <tr>\n",
       "      <th>4</th>\n",
       "      <td>60</td>\n",
       "      <td>14260</td>\n",
       "      <td>1145</td>\n",
       "      <td>250000</td>\n",
       "    </tr>\n",
       "  </tbody>\n",
       "</table>\n",
       "</div>"
      ],
      "text/plain": [
       "   MSSubClass  LotArea  TotalBsmtSF  SalePrice\n",
       "0          60     8450          856     208500\n",
       "1          20     9600         1262     181500\n",
       "2          60    11250          920     223500\n",
       "3          70     9550          756     140000\n",
       "4          60    14260         1145     250000"
      ]
     },
     "execution_count": 58,
     "metadata": {
      "tags": []
     },
     "output_type": "execute_result"
    }
   ],
   "source": [
    "# Load data\n",
    "house_prices = pd.read_csv(os.path.join(path, \"house_prices.csv\"), usecols=[\"LotArea\", \"TotalBsmtSF\", \"MSSubClass\", \"SalePrice\"])# os.path.join() digunakan untuk menggabungkan 2 directory\n",
    "\n",
    "# Display 5 data teratas\n",
    "house_prices.head()"
   ]
  },
  {
   "cell_type": "markdown",
   "metadata": {
    "id": "zPk5g91gj10g"
   },
   "source": [
    "## Exploratory Data Analysis (EDA) & Data Preprocessing"
   ]
  },
  {
   "cell_type": "markdown",
   "metadata": {
    "id": "zI2ITPCN5NLk"
   },
   "source": [
    "Analisis data eksplorasi adalah pendekatan untuk merangkum karakteristik dari data"
   ]
  },
  {
   "cell_type": "markdown",
   "metadata": {
    "id": "Tq4fqU_Fj10l"
   },
   "source": [
    "Data processing adalah proses mengonversi data menjadi informasi yang bermanfaat dan dapat digunakan sesuai dengan tujuan analisis"
   ]
  },
  {
   "cell_type": "markdown",
   "metadata": {
    "id": "esh9z7BJj10g"
   },
   "source": [
    "#### Data Type"
   ]
  },
  {
   "cell_type": "code",
   "execution_count": null,
   "metadata": {
    "colab": {
     "base_uri": "https://localhost:8080/"
    },
    "executionInfo": {
     "elapsed": 350,
     "status": "ok",
     "timestamp": 1628718003050,
     "user": {
      "displayName": "Fitria Nur",
      "photoUrl": "",
      "userId": "14798815293212797090"
     },
     "user_tz": -420
    },
    "id": "edlCn2vXNi5u",
    "outputId": "6c2a9eb9-9256-4195-94a3-2aad51cfd380"
   },
   "outputs": [
    {
     "name": "stdout",
     "output_type": "stream",
     "text": [
      "<class 'pandas.core.frame.DataFrame'>\n",
      "RangeIndex: 1460 entries, 0 to 1459\n",
      "Data columns (total 4 columns):\n",
      " #   Column       Non-Null Count  Dtype\n",
      "---  ------       --------------  -----\n",
      " 0   MSSubClass   1460 non-null   int64\n",
      " 1   LotArea      1460 non-null   int64\n",
      " 2   TotalBsmtSF  1460 non-null   int64\n",
      " 3   SalePrice    1460 non-null   int64\n",
      "dtypes: int64(4)\n",
      "memory usage: 45.8 KB\n"
     ]
    }
   ],
   "source": [
    "# Mendapatkan informasi dari data\n",
    "house_prices.info()"
   ]
  },
  {
   "cell_type": "code",
   "execution_count": null,
   "metadata": {
    "colab": {
     "base_uri": "https://localhost:8080/",
     "height": 300
    },
    "executionInfo": {
     "elapsed": 29,
     "status": "ok",
     "timestamp": 1628718004652,
     "user": {
      "displayName": "Fitria Nur",
      "photoUrl": "",
      "userId": "14798815293212797090"
     },
     "user_tz": -420
    },
    "id": "KZ7a0cD0j10h",
    "outputId": "e3b43e8e-7bea-4cef-b7a5-eb13a86d2286"
   },
   "outputs": [
    {
     "data": {
      "text/html": [
       "<div>\n",
       "<style scoped>\n",
       "    .dataframe tbody tr th:only-of-type {\n",
       "        vertical-align: middle;\n",
       "    }\n",
       "\n",
       "    .dataframe tbody tr th {\n",
       "        vertical-align: top;\n",
       "    }\n",
       "\n",
       "    .dataframe thead th {\n",
       "        text-align: right;\n",
       "    }\n",
       "</style>\n",
       "<table border=\"1\" class=\"dataframe\">\n",
       "  <thead>\n",
       "    <tr style=\"text-align: right;\">\n",
       "      <th></th>\n",
       "      <th>MSSubClass</th>\n",
       "      <th>LotArea</th>\n",
       "      <th>TotalBsmtSF</th>\n",
       "      <th>SalePrice</th>\n",
       "    </tr>\n",
       "  </thead>\n",
       "  <tbody>\n",
       "    <tr>\n",
       "      <th>count</th>\n",
       "      <td>1460.000000</td>\n",
       "      <td>1460.000000</td>\n",
       "      <td>1460.000000</td>\n",
       "      <td>1460.000000</td>\n",
       "    </tr>\n",
       "    <tr>\n",
       "      <th>mean</th>\n",
       "      <td>56.897260</td>\n",
       "      <td>10516.828082</td>\n",
       "      <td>1057.429452</td>\n",
       "      <td>180921.195890</td>\n",
       "    </tr>\n",
       "    <tr>\n",
       "      <th>std</th>\n",
       "      <td>42.300571</td>\n",
       "      <td>9981.264932</td>\n",
       "      <td>438.705324</td>\n",
       "      <td>79442.502883</td>\n",
       "    </tr>\n",
       "    <tr>\n",
       "      <th>min</th>\n",
       "      <td>20.000000</td>\n",
       "      <td>1300.000000</td>\n",
       "      <td>0.000000</td>\n",
       "      <td>34900.000000</td>\n",
       "    </tr>\n",
       "    <tr>\n",
       "      <th>25%</th>\n",
       "      <td>20.000000</td>\n",
       "      <td>7553.500000</td>\n",
       "      <td>795.750000</td>\n",
       "      <td>129975.000000</td>\n",
       "    </tr>\n",
       "    <tr>\n",
       "      <th>50%</th>\n",
       "      <td>50.000000</td>\n",
       "      <td>9478.500000</td>\n",
       "      <td>991.500000</td>\n",
       "      <td>163000.000000</td>\n",
       "    </tr>\n",
       "    <tr>\n",
       "      <th>75%</th>\n",
       "      <td>70.000000</td>\n",
       "      <td>11601.500000</td>\n",
       "      <td>1298.250000</td>\n",
       "      <td>214000.000000</td>\n",
       "    </tr>\n",
       "    <tr>\n",
       "      <th>max</th>\n",
       "      <td>190.000000</td>\n",
       "      <td>215245.000000</td>\n",
       "      <td>6110.000000</td>\n",
       "      <td>755000.000000</td>\n",
       "    </tr>\n",
       "  </tbody>\n",
       "</table>\n",
       "</div>"
      ],
      "text/plain": [
       "        MSSubClass        LotArea  TotalBsmtSF      SalePrice\n",
       "count  1460.000000    1460.000000  1460.000000    1460.000000\n",
       "mean     56.897260   10516.828082  1057.429452  180921.195890\n",
       "std      42.300571    9981.264932   438.705324   79442.502883\n",
       "min      20.000000    1300.000000     0.000000   34900.000000\n",
       "25%      20.000000    7553.500000   795.750000  129975.000000\n",
       "50%      50.000000    9478.500000   991.500000  163000.000000\n",
       "75%      70.000000   11601.500000  1298.250000  214000.000000\n",
       "max     190.000000  215245.000000  6110.000000  755000.000000"
      ]
     },
     "execution_count": 60,
     "metadata": {
      "tags": []
     },
     "output_type": "execute_result"
    }
   ],
   "source": [
    "# Melakukan analisa deskriptif\n",
    "house_prices.describe()"
   ]
  },
  {
   "cell_type": "markdown",
   "metadata": {
    "id": "EvjAW-Zfj10m"
   },
   "source": [
    "### Missing Value\n",
    "\n"
   ]
  },
  {
   "cell_type": "markdown",
   "metadata": {
    "id": "vEyVxqEY8vxA"
   },
   "source": [
    "Missing value adalah data yang hilang, atau nilai yang hilang, terjadi ketika tidak ada nilai data yang disimpan untuk variabel dalam pengamatan. Kita ingin melakukan identifikasi, apakah terdapat data yang missing atau tidak dalam observasi pengamatan."
   ]
  },
  {
   "cell_type": "code",
   "execution_count": null,
   "metadata": {
    "colab": {
     "base_uri": "https://localhost:8080/"
    },
    "executionInfo": {
     "elapsed": 341,
     "status": "ok",
     "timestamp": 1628718008599,
     "user": {
      "displayName": "Fitria Nur",
      "photoUrl": "",
      "userId": "14798815293212797090"
     },
     "user_tz": -420
    },
    "id": "yIxBRpIpj10m",
    "outputId": "eeeceb77-ff81-4c11-c59b-5a2925a97afe"
   },
   "outputs": [
    {
     "data": {
      "text/plain": [
       "MSSubClass     0\n",
       "LotArea        0\n",
       "TotalBsmtSF    0\n",
       "SalePrice      0\n",
       "dtype: int64"
      ]
     },
     "execution_count": 61,
     "metadata": {
      "tags": []
     },
     "output_type": "execute_result"
    }
   ],
   "source": [
    "# Check missing value\n",
    "house_prices.isna().sum()"
   ]
  },
  {
   "cell_type": "markdown",
   "metadata": {
    "id": "-JK-_-5LcBH4"
   },
   "source": [
    "### Duplicates data"
   ]
  },
  {
   "cell_type": "markdown",
   "metadata": {
    "id": "M8yke5Fq8ybO"
   },
   "source": [
    "Melakukan identifikasi, apakah terdapat data/observasi yang sama atau tidak"
   ]
  },
  {
   "cell_type": "code",
   "execution_count": null,
   "metadata": {
    "colab": {
     "base_uri": "https://localhost:8080/",
     "height": 81
    },
    "executionInfo": {
     "elapsed": 361,
     "status": "ok",
     "timestamp": 1628718012301,
     "user": {
      "displayName": "Fitria Nur",
      "photoUrl": "",
      "userId": "14798815293212797090"
     },
     "user_tz": -420
    },
    "id": "D8lLaREbcFUy",
    "outputId": "a1df9e78-ebe8-49aa-f917-679e84d89a16"
   },
   "outputs": [
    {
     "data": {
      "text/html": [
       "<div>\n",
       "<style scoped>\n",
       "    .dataframe tbody tr th:only-of-type {\n",
       "        vertical-align: middle;\n",
       "    }\n",
       "\n",
       "    .dataframe tbody tr th {\n",
       "        vertical-align: top;\n",
       "    }\n",
       "\n",
       "    .dataframe thead th {\n",
       "        text-align: right;\n",
       "    }\n",
       "</style>\n",
       "<table border=\"1\" class=\"dataframe\">\n",
       "  <thead>\n",
       "    <tr style=\"text-align: right;\">\n",
       "      <th></th>\n",
       "      <th>MSSubClass</th>\n",
       "      <th>LotArea</th>\n",
       "      <th>TotalBsmtSF</th>\n",
       "      <th>SalePrice</th>\n",
       "    </tr>\n",
       "  </thead>\n",
       "  <tbody>\n",
       "    <tr>\n",
       "      <th>193</th>\n",
       "      <td>160</td>\n",
       "      <td>2522</td>\n",
       "      <td>970</td>\n",
       "      <td>130000</td>\n",
       "    </tr>\n",
       "  </tbody>\n",
       "</table>\n",
       "</div>"
      ],
      "text/plain": [
       "     MSSubClass  LotArea  TotalBsmtSF  SalePrice\n",
       "193         160     2522          970     130000"
      ]
     },
     "execution_count": 62,
     "metadata": {
      "tags": []
     },
     "output_type": "execute_result"
    }
   ],
   "source": [
    "# Cek duplicate\n",
    "duplicate = house_prices[house_prices.duplicated()]\n",
    "duplicate"
   ]
  },
  {
   "cell_type": "code",
   "execution_count": null,
   "metadata": {
    "id": "Z3DTppvncQNz"
   },
   "outputs": [],
   "source": [
    "# drop duplicate\n",
    "house_prices.drop_duplicates(inplace=True)"
   ]
  },
  {
   "cell_type": "code",
   "execution_count": null,
   "metadata": {
    "colab": {
     "base_uri": "https://localhost:8080/"
    },
    "executionInfo": {
     "elapsed": 12,
     "status": "ok",
     "timestamp": 1628718015581,
     "user": {
      "displayName": "Fitria Nur",
      "photoUrl": "",
      "userId": "14798815293212797090"
     },
     "user_tz": -420
    },
    "id": "Sbfo7_Jjca0-",
    "outputId": "12004c27-5c7f-4f0b-92a6-3380d2ffc6a3"
   },
   "outputs": [
    {
     "data": {
      "text/plain": [
       "(1459, 4)"
      ]
     },
     "execution_count": 64,
     "metadata": {
      "tags": []
     },
     "output_type": "execute_result"
    }
   ],
   "source": [
    "# Cek ukuran data apakah duplicate sudah terhapus\n",
    "house_prices.shape"
   ]
  },
  {
   "cell_type": "markdown",
   "metadata": {
    "id": "_lY6BY_Sj10j"
   },
   "source": [
    "### Asumsi Analisis Regresi"
   ]
  },
  {
   "cell_type": "markdown",
   "metadata": {
    "id": "CBGuhgKp5SCX"
   },
   "source": [
    "Uji Asumsi klasik adalah analisis yang dilakukan untuk menilai apakah di dalam sebuah model regresi linear Ordinary Least Square (OLS) terdapat masalah-masalah asumsi klasik."
   ]
  },
  {
   "cell_type": "markdown",
   "metadata": {
    "id": "3DiSgL10_vym"
   },
   "source": [
    "#### Uji Normalitas"
   ]
  },
  {
   "cell_type": "markdown",
   "metadata": {
    "id": "4EF-WfgJ_R_d"
   },
   "source": [
    "Uji Normalitas adalah uji statistik yang dilakukan untuk mengetahui bagaimana sebaran sebuah data."
   ]
  },
  {
   "cell_type": "code",
   "execution_count": null,
   "metadata": {
    "colab": {
     "base_uri": "https://localhost:8080/",
     "height": 529
    },
    "executionInfo": {
     "elapsed": 1829,
     "status": "ok",
     "timestamp": 1628718022782,
     "user": {
      "displayName": "Fitria Nur",
      "photoUrl": "",
      "userId": "14798815293212797090"
     },
     "user_tz": -420
    },
    "id": "VmjFw9mrRipl",
    "outputId": "55b883ce-8de2-4537-ca8f-d4af29add9b7"
   },
   "outputs": [
    {
     "data": {
      "image/png": "[encoded data removed]",
      "text/plain": [
       "<Figure size 1080x720 with 4 Axes>"
      ]
     },
     "metadata": {
      "needs_background": "light",
      "tags": []
     },
     "output_type": "display_data"
    }
   ],
   "source": [
    "# Cek normalitas data dengan histogram\n",
    "warnings.filterwarnings('ignore')\n",
    "fig, axes = plt.subplots(2, 2, figsize=(15, 10))\n",
    "\n",
    "sns.distplot(house_prices[\"MSSubClass\"], ax=axes[0, 0])\n",
    "sns.distplot(house_prices[\"LotArea\"], ax=axes[0, 1])\n",
    "sns.distplot(house_prices[\"TotalBsmtSF\"], ax=axes[1, 0])\n",
    "sns.distplot(house_prices[\"SalePrice\"], ax=axes[1, 1])\n",
    "plt.show()"
   ]
  },
  {
   "cell_type": "code",
   "execution_count": null,
   "metadata": {
    "colab": {
     "base_uri": "https://localhost:8080/",
     "height": 561
    },
    "executionInfo": {
     "elapsed": 968,
     "status": "ok",
     "timestamp": 1628718025469,
     "user": {
      "displayName": "Fitria Nur",
      "photoUrl": "",
      "userId": "14798815293212797090"
     },
     "user_tz": -420
    },
    "id": "NK0rZ7tCj10j",
    "outputId": "b111c43e-ce09-4777-a642-ead3e784038e"
   },
   "outputs": [
    {
     "data": {
      "image/png": "[encoded data removed]",
      "text/plain": [
       "<Figure size 1080x720 with 4 Axes>"
      ]
     },
     "metadata": {
      "needs_background": "light",
      "tags": []
     },
     "output_type": "display_data"
    }
   ],
   "source": [
    "# Cek normalitas data dengan boxplot\n",
    "fig, axes = plt.subplots(2, 2, figsize=(15, 10))\n",
    "\n",
    "sns.boxplot(house_prices[\"MSSubClass\"], ax=axes[0, 0])\n",
    "sns.boxplot(house_prices[\"LotArea\"], ax=axes[0, 1])\n",
    "sns.boxplot(house_prices[\"TotalBsmtSF\"], ax=axes[1, 0])\n",
    "sns.boxplot(house_prices[\"SalePrice\"], ax=axes[1, 1])\n",
    "plt.show()"
   ]
  },
  {
   "cell_type": "markdown",
   "metadata": {
    "id": "5HKgFUDA5t50"
   },
   "source": [
    "Syarat distribusi normal pada data hanya diberlakukan pada variabel Y, akan tetapi kita akan melihat sebaran data dari semua varaibel. \n",
    "\n",
    "Terlihat dari histogram, bahwa variabel Y Sales Price berdistribusi normal, sedangkan pada variabel X LotArea dan TotalBsmSF membentuk lonceng berdistribusi normal dan variabel X MSSubClass tidak membentuk lonceng (tidak berdistrubis normal) \n",
    "\n",
    "Dan dari gambar boxplot, dilihat dari sebaran data pada kuartal 1, kuartal 2 dan kuartal 3, apakah memiliki bentuk yang simetris? \n",
    "\n",
    "Dikatakan distribusi normal ketika membentuk pola yang simetris."
   ]
  },
  {
   "cell_type": "code",
   "execution_count": null,
   "metadata": {
    "colab": {
     "base_uri": "https://localhost:8080/",
     "height": 548
    },
    "executionInfo": {
     "elapsed": 1141,
     "status": "ok",
     "timestamp": 1628718028940,
     "user": {
      "displayName": "Fitria Nur",
      "photoUrl": "",
      "userId": "14798815293212797090"
     },
     "user_tz": -420
    },
    "id": "GBTPlqqgTi31",
    "outputId": "a8c5ede4-3f70-438b-b0d5-30930022f9ae"
   },
   "outputs": [
    {
     "data": {
      "image/png": "[encoded data removed]",
      "text/plain": [
       "<Figure size 1080x720 with 4 Axes>"
      ]
     },
     "metadata": {
      "needs_background": "light",
      "tags": []
     },
     "output_type": "display_data"
    }
   ],
   "source": [
    "# Cek normalitas data dengan Q-Q plot\n",
    "fig, axes = plt.subplots(2, 2, figsize=(15, 10))\n",
    "\n",
    "sm.graphics.qqplot(house_prices[\"MSSubClass\"].dropna(), line='s', ax=axes[0, 0])\n",
    "axes[0, 0].title.set_text('Q-Qplot Plot MSSubClass')\n",
    "\n",
    "sm.graphics.qqplot(house_prices[\"LotArea\"].dropna(), line='s', ax=axes[0, 1])\n",
    "axes[0, 1].title.set_text('Q-Qplot Plot LotArea')\n",
    "\n",
    "sm.graphics.qqplot(house_prices[\"TotalBsmtSF\"].dropna(), line='s', ax=axes[1, 0])\n",
    "axes[1, 0].title.set_text('Q-Qplot Plot TotalBsmtSF')\n",
    "\n",
    "sm.graphics.qqplot(house_prices[\"SalePrice\"].dropna(), line='s', ax=axes[1, 1])\n",
    "axes[1, 1].title.set_text('Q-Qplot Plot SalePrice')\n",
    "\n",
    "plt.show()"
   ]
  },
  {
   "cell_type": "markdown",
   "metadata": {
    "id": "AJDQoioe_2_W"
   },
   "source": [
    "#### Uji Linearitas"
   ]
  },
  {
   "cell_type": "markdown",
   "metadata": {
    "id": "AvzMRjQ3BGJN"
   },
   "source": [
    "Uji Linearitas adalah sifat hubungan yang linear antara variabel, artinya setiap perubahan yang terjadi pada satu variabel akan diikuti perubahan dengan besaran yang sejajar pada variabel lainnya."
   ]
  },
  {
   "cell_type": "code",
   "execution_count": null,
   "metadata": {
    "colab": {
     "base_uri": "https://localhost:8080/",
     "height": 277
    },
    "executionInfo": {
     "elapsed": 2148,
     "status": "ok",
     "timestamp": 1628718035323,
     "user": {
      "displayName": "Fitria Nur",
      "photoUrl": "",
      "userId": "14798815293212797090"
     },
     "user_tz": -420
    },
    "id": "hxco0mQhj10k",
    "outputId": "ea628a0e-3aa4-41d2-cc81-fbe9291c1fac"
   },
   "outputs": [
    {
     "data": {
      "image/png": "[encoded data removed]",
      "text/plain": [
       "<Figure size 1512x432 with 3 Axes>"
      ]
     },
     "metadata": {
      "needs_background": "light",
      "tags": []
     },
     "output_type": "display_data"
    }
   ],
   "source": [
    "# Keterkaitan x dengan y\n",
    "fig, axes = plt.subplots(1, 3, figsize=(21, 6))\n",
    "fig.suptitle('Variable Dependent vs Independent')\n",
    "\n",
    "sns.regplot(x=house_prices[\"MSSubClass\"], y=house_prices[\"SalePrice\"], lowess=True, line_kws={'color': 'red'}, ax=axes[0])\n",
    "sns.regplot(x=house_prices[\"LotArea\"], y=house_prices[\"SalePrice\"], lowess=True, line_kws={'color': 'red'}, ax=axes[1])\n",
    "sns.regplot(x=house_prices[\"TotalBsmtSF\"], y=house_prices[\"SalePrice\"], lowess=True, line_kws={'color': 'red'}, ax=axes[2])\n",
    "plt.show()"
   ]
  },
  {
   "cell_type": "markdown",
   "metadata": {
    "id": "dYxraHoiAOro"
   },
   "source": [
    "#### Uji Multikolinearitas"
   ]
  },
  {
   "cell_type": "markdown",
   "metadata": {
    "id": "lt5750WwEx3a"
   },
   "source": [
    "Uji multikolinearitas adalah untuk melihat ada atau tidaknya korelasi yang tinggi antara variabel-variabel bebas dalam suatu model regresi linear berganda"
   ]
  },
  {
   "cell_type": "code",
   "execution_count": null,
   "metadata": {
    "colab": {
     "base_uri": "https://localhost:8080/",
     "height": 504
    },
    "executionInfo": {
     "elapsed": 504,
     "status": "ok",
     "timestamp": 1628718039929,
     "user": {
      "displayName": "Fitria Nur",
      "photoUrl": "",
      "userId": "14798815293212797090"
     },
     "user_tz": -420
    },
    "id": "pfO0mFR-j10k",
    "outputId": "0a2f5908-defc-4975-8be0-79f9cf356679"
   },
   "outputs": [
    {
     "data": {
      "text/plain": [
       "<matplotlib.axes._subplots.AxesSubplot at 0x7f711c9eaed0>"
      ]
     },
     "execution_count": 69,
     "metadata": {
      "tags": []
     },
     "output_type": "execute_result"
    },
    {
     "data": {
      "image/png": "[encoded data removed]",
      "text/plain": [
       "<Figure size 720x576 with 2 Axes>"
      ]
     },
     "metadata": {
      "needs_background": "light",
      "tags": []
     },
     "output_type": "display_data"
    }
   ],
   "source": [
    "plt.figure(figsize=(10,8))\n",
    "sns.heatmap(house_prices.corr(), vmax=1, vmin=-1, center=0, cmap=\"Spectral\", annot=True)"
   ]
  },
  {
   "cell_type": "code",
   "execution_count": null,
   "metadata": {
    "colab": {
     "base_uri": "https://localhost:8080/"
    },
    "executionInfo": {
     "elapsed": 14,
     "status": "ok",
     "timestamp": 1628718041428,
     "user": {
      "displayName": "Fitria Nur",
      "photoUrl": "",
      "userId": "14798815293212797090"
     },
     "user_tz": -420
    },
    "id": "VyE7i8daj10l",
    "outputId": "3f831438-5e51-4e1d-ec10-bff8126fc508"
   },
   "outputs": [
    {
     "data": {
      "text/plain": [
       "MSSubClass    -0.083394\n",
       "LotArea        0.263586\n",
       "TotalBsmtSF    0.613588\n",
       "SalePrice      1.000000\n",
       "Name: SalePrice, dtype: float64"
      ]
     },
     "execution_count": 70,
     "metadata": {
      "tags": []
     },
     "output_type": "execute_result"
    }
   ],
   "source": [
    "# Cek Urutan korelasi terendah ke tertinggi\n",
    "korelasi = house_prices.corr()[\"SalePrice\"].sort_values()\n",
    "korelasi"
   ]
  },
  {
   "cell_type": "markdown",
   "metadata": {
    "id": "oC9qir7X7hIJ"
   },
   "source": [
    "Diperoleh : <BR>\n",
    "Nilai korelasi antara LotArea dengan TotalBsmtSF (0,26), dengan MSSubClass (-0,14)<br>\n",
    "Nilai korelasi antara  TotalBsmtSF  dengan MSSubClass (-0,24)"
   ]
  },
  {
   "cell_type": "markdown",
   "metadata": {
    "id": "txNLuv087_Bw"
   },
   "source": [
    "Nilai korelasi yang diperoleh antar variabel bebas relatif kecil, sehingga asumsi terpenuhi"
   ]
  },
  {
   "cell_type": "markdown",
   "metadata": {
    "id": "IrpPMI5Ej10n"
   },
   "source": [
    "### Scaling\n",
    "Scaling digunakan untuk merubah skala pada data. Penggunaan scaling dapat membantu mengurangi gap antar kolom dalam data, proses ini tidak merubah distribusi dalam data, hanya melakukan pengubahan skala data."
   ]
  },
  {
   "cell_type": "code",
   "execution_count": null,
   "metadata": {
    "colab": {
     "base_uri": "https://localhost:8080/"
    },
    "executionInfo": {
     "elapsed": 443,
     "status": "ok",
     "timestamp": 1628718118850,
     "user": {
      "displayName": "Fitria Nur",
      "photoUrl": "",
      "userId": "14798815293212797090"
     },
     "user_tz": -420
    },
    "id": "IGTrZntbj10n",
    "outputId": "aea1e1f2-9f95-44e3-e9e1-606bfa6aae7c"
   },
   "outputs": [
    {
     "data": {
      "text/plain": [
       "array([[ 0.07517373, -0.20766545, -0.45928807,  0.3467638 ],\n",
       "       [-0.87237242, -0.09242423,  0.4661749 ,  0.00684746],\n",
       "       [ 0.07517373,  0.07292186, -0.31340228,  0.53560621],\n",
       "       ...,\n",
       "       [ 0.31206026, -0.14834127,  0.2154337 ,  1.07695446],\n",
       "       [-0.87237242, -0.08069969,  0.04675326, -0.48886387],\n",
       "       [-0.87237242, -0.05865354,  0.4524981 , -0.42119534]])"
      ]
     },
     "execution_count": 71,
     "metadata": {
      "tags": []
     },
     "output_type": "execute_result"
    }
   ],
   "source": [
    "# Scale data\n",
    "scaler = StandardScaler()\n",
    "scaled_house_prices = scaler.fit_transform(house_prices)\n",
    "scaled_house_prices"
   ]
  },
  {
   "cell_type": "code",
   "execution_count": null,
   "metadata": {
    "colab": {
     "base_uri": "https://localhost:8080/",
     "height": 424
    },
    "executionInfo": {
     "elapsed": 36,
     "status": "ok",
     "timestamp": 1628718119601,
     "user": {
      "displayName": "Fitria Nur",
      "photoUrl": "",
      "userId": "14798815293212797090"
     },
     "user_tz": -420
    },
    "id": "fxXTlU_hj10n",
    "outputId": "8b9ef793-2e0d-43ae-9967-49d53ed92f46"
   },
   "outputs": [
    {
     "data": {
      "text/html": [
       "<div>\n",
       "<style scoped>\n",
       "    .dataframe tbody tr th:only-of-type {\n",
       "        vertical-align: middle;\n",
       "    }\n",
       "\n",
       "    .dataframe tbody tr th {\n",
       "        vertical-align: top;\n",
       "    }\n",
       "\n",
       "    .dataframe thead th {\n",
       "        text-align: right;\n",
       "    }\n",
       "</style>\n",
       "<table border=\"1\" class=\"dataframe\">\n",
       "  <thead>\n",
       "    <tr style=\"text-align: right;\">\n",
       "      <th></th>\n",
       "      <th>MSSubClass</th>\n",
       "      <th>LotArea</th>\n",
       "      <th>TotalBsmtSF</th>\n",
       "      <th>SalePrice</th>\n",
       "    </tr>\n",
       "  </thead>\n",
       "  <tbody>\n",
       "    <tr>\n",
       "      <th>0</th>\n",
       "      <td>0.075174</td>\n",
       "      <td>-0.207665</td>\n",
       "      <td>-0.459288</td>\n",
       "      <td>0.346764</td>\n",
       "    </tr>\n",
       "    <tr>\n",
       "      <th>1</th>\n",
       "      <td>-0.872372</td>\n",
       "      <td>-0.092424</td>\n",
       "      <td>0.466175</td>\n",
       "      <td>0.006847</td>\n",
       "    </tr>\n",
       "    <tr>\n",
       "      <th>2</th>\n",
       "      <td>0.075174</td>\n",
       "      <td>0.072922</td>\n",
       "      <td>-0.313402</td>\n",
       "      <td>0.535606</td>\n",
       "    </tr>\n",
       "    <tr>\n",
       "      <th>3</th>\n",
       "      <td>0.312060</td>\n",
       "      <td>-0.097435</td>\n",
       "      <td>-0.687235</td>\n",
       "      <td>-0.515617</td>\n",
       "    </tr>\n",
       "    <tr>\n",
       "      <th>4</th>\n",
       "      <td>0.075174</td>\n",
       "      <td>0.374553</td>\n",
       "      <td>0.199477</td>\n",
       "      <td>0.869228</td>\n",
       "    </tr>\n",
       "    <tr>\n",
       "      <th>...</th>\n",
       "      <td>...</td>\n",
       "      <td>...</td>\n",
       "      <td>...</td>\n",
       "      <td>...</td>\n",
       "    </tr>\n",
       "    <tr>\n",
       "      <th>1454</th>\n",
       "      <td>0.075174</td>\n",
       "      <td>-0.261077</td>\n",
       "      <td>-0.238180</td>\n",
       "      <td>-0.074984</td>\n",
       "    </tr>\n",
       "    <tr>\n",
       "      <th>1455</th>\n",
       "      <td>-0.872372</td>\n",
       "      <td>0.265826</td>\n",
       "      <td>1.104425</td>\n",
       "      <td>0.365648</td>\n",
       "    </tr>\n",
       "    <tr>\n",
       "      <th>1456</th>\n",
       "      <td>0.312060</td>\n",
       "      <td>-0.148341</td>\n",
       "      <td>0.215434</td>\n",
       "      <td>1.076954</td>\n",
       "    </tr>\n",
       "    <tr>\n",
       "      <th>1457</th>\n",
       "      <td>-0.872372</td>\n",
       "      <td>-0.080700</td>\n",
       "      <td>0.046753</td>\n",
       "      <td>-0.488864</td>\n",
       "    </tr>\n",
       "    <tr>\n",
       "      <th>1458</th>\n",
       "      <td>-0.872372</td>\n",
       "      <td>-0.058654</td>\n",
       "      <td>0.452498</td>\n",
       "      <td>-0.421195</td>\n",
       "    </tr>\n",
       "  </tbody>\n",
       "</table>\n",
       "<p>1459 rows × 4 columns</p>\n",
       "</div>"
      ],
      "text/plain": [
       "      MSSubClass   LotArea  TotalBsmtSF  SalePrice\n",
       "0       0.075174 -0.207665    -0.459288   0.346764\n",
       "1      -0.872372 -0.092424     0.466175   0.006847\n",
       "2       0.075174  0.072922    -0.313402   0.535606\n",
       "3       0.312060 -0.097435    -0.687235  -0.515617\n",
       "4       0.075174  0.374553     0.199477   0.869228\n",
       "...          ...       ...          ...        ...\n",
       "1454    0.075174 -0.261077    -0.238180  -0.074984\n",
       "1455   -0.872372  0.265826     1.104425   0.365648\n",
       "1456    0.312060 -0.148341     0.215434   1.076954\n",
       "1457   -0.872372 -0.080700     0.046753  -0.488864\n",
       "1458   -0.872372 -0.058654     0.452498  -0.421195\n",
       "\n",
       "[1459 rows x 4 columns]"
      ]
     },
     "execution_count": 72,
     "metadata": {
      "tags": []
     },
     "output_type": "execute_result"
    }
   ],
   "source": [
    "# Membuat dataframe dari hasil scalling\n",
    "scaled_house_prices = pd.DataFrame(scaled_house_prices, columns=house_prices.columns)\n",
    "scaled_house_prices"
   ]
  },
  {
   "cell_type": "code",
   "execution_count": null,
   "metadata": {
    "colab": {
     "base_uri": "https://localhost:8080/",
     "height": 994
    },
    "executionInfo": {
     "elapsed": 2846,
     "status": "ok",
     "timestamp": 1628718124789,
     "user": {
      "displayName": "Fitria Nur",
      "photoUrl": "",
      "userId": "14798815293212797090"
     },
     "user_tz": -420
    },
    "id": "GSYPmyb6j10o",
    "outputId": "b7ea2b9e-3298-427a-acea-b1dabb2ca312"
   },
   "outputs": [
    {
     "data": {
      "image/png": "[encoded data removed]",
      "text/plain": [
       "<Figure size 1080x1440 with 8 Axes>"
      ]
     },
     "metadata": {
      "needs_background": "light",
      "tags": []
     },
     "output_type": "display_data"
    }
   ],
   "source": [
    "# Plot variabel sebelum dan sesudah scaling\n",
    "fig, axes = plt.subplots(4, 2, figsize=(15, 20))\n",
    "\n",
    "sns.distplot(house_prices[\"MSSubClass\"], ax=axes[0, 0])\n",
    "sns.distplot(scaled_house_prices[\"MSSubClass\"], ax=axes[0, 1])\n",
    "sns.distplot(house_prices[\"LotArea\"], ax=axes[1, 0])\n",
    "sns.distplot(scaled_house_prices[\"LotArea\"], ax=axes[1, 1])\n",
    "sns.distplot(house_prices[\"TotalBsmtSF\"], ax=axes[2, 0])\n",
    "sns.distplot(scaled_house_prices[\"TotalBsmtSF\"], ax=axes[2, 1])\n",
    "sns.distplot(house_prices[\"SalePrice\"], ax=axes[3, 0])\n",
    "sns.distplot(scaled_house_prices[\"SalePrice\"], ax=axes[3, 1])\n",
    "plt.show()"
   ]
  },
  {
   "cell_type": "markdown",
   "metadata": {
    "id": "fHMBC3BH89TJ"
   },
   "source": [
    "## Membangun Model Regresi"
   ]
  },
  {
   "cell_type": "markdown",
   "metadata": {
    "id": "LYeYmcMyj10p"
   },
   "source": [
    "### Train Test Split"
   ]
  },
  {
   "cell_type": "markdown",
   "metadata": {
    "id": "1sUaIzEc83t-"
   },
   "source": [
    "Proses ini merupakan proses pembagian data dalam bentuk, train (untuk membangun model), dan test (untuk testing dari model yang terbentuk) dengan pembagian 70% data train dan 30% data test"
   ]
  },
  {
   "cell_type": "code",
   "execution_count": null,
   "metadata": {
    "id": "7R_1_WUJj10p"
   },
   "outputs": [],
   "source": [
    "X = scaled_house_prices.drop(\"SalePrice\", axis=1).values\n",
    "y = scaled_house_prices[\"SalePrice\"].values.reshape(-1,1)\n",
    "\n",
    "X_train, X_test, y_train, y_test = train_test_split(X, y, test_size=0.3,random_state=0)"
   ]
  },
  {
   "cell_type": "code",
   "execution_count": null,
   "metadata": {
    "colab": {
     "base_uri": "https://localhost:8080/"
    },
    "executionInfo": {
     "elapsed": 670,
     "status": "ok",
     "timestamp": 1628718128831,
     "user": {
      "displayName": "Fitria Nur",
      "photoUrl": "",
      "userId": "14798815293212797090"
     },
     "user_tz": -420
    },
    "id": "-WxOBazJj10q",
    "outputId": "0b2c3fd6-0b1c-4fc2-e655-b1245ca3dc5e"
   },
   "outputs": [
    {
     "name": "stdout",
     "output_type": "stream",
     "text": [
      "Ukuran X train  1021\n",
      "Ukuran X test  438\n",
      "Ukuran y train  1021\n",
      "Ukuran y test  438\n"
     ]
    }
   ],
   "source": [
    "print(\"Ukuran X train \", len(X_train))\n",
    "print(\"Ukuran X test \", len(X_test))\n",
    "print(\"Ukuran y train \", len(y_train))\n",
    "print(\"Ukuran y test \", len(y_test))"
   ]
  },
  {
   "cell_type": "markdown",
   "metadata": {
    "id": "WIIJ0w24j10r"
   },
   "source": [
    "### Membangun model dengan package Statsmodels"
   ]
  },
  {
   "cell_type": "code",
   "execution_count": null,
   "metadata": {
    "id": "Fur4m2eej10r"
   },
   "outputs": [],
   "source": [
    "# Masukkan intercepts secara manual\n",
    "Input = sm.add_constant(X_train)"
   ]
  },
  {
   "cell_type": "code",
   "execution_count": null,
   "metadata": {
    "id": "LfsELFn7j10r"
   },
   "outputs": [],
   "source": [
    "# Modelling dengan statsmodels\n",
    "SimpleModel = sm.OLS(y_train, Input, missing='drop')\n",
    "results = SimpleModel.fit()"
   ]
  },
  {
   "cell_type": "code",
   "execution_count": null,
   "metadata": {
    "colab": {
     "base_uri": "https://localhost:8080/"
    },
    "executionInfo": {
     "elapsed": 17,
     "status": "ok",
     "timestamp": 1628718131107,
     "user": {
      "displayName": "Fitria Nur",
      "photoUrl": "",
      "userId": "14798815293212797090"
     },
     "user_tz": -420
    },
    "id": "SOTIyqbjj10r",
    "outputId": "91e03fe5-2d4d-48b4-aa50-bc8f97697bfe"
   },
   "outputs": [
    {
     "name": "stdout",
     "output_type": "stream",
     "text": [
      "                            OLS Regression Results                            \n",
      "==============================================================================\n",
      "Dep. Variable:                      y   R-squared:                       0.436\n",
      "Model:                            OLS   Adj. R-squared:                  0.435\n",
      "Method:                 Least Squares   F-statistic:                     262.5\n",
      "Date:                Wed, 11 Aug 2021   Prob (F-statistic):          3.83e-126\n",
      "Time:                        21:42:11   Log-Likelihood:                -1131.3\n",
      "No. Observations:                1021   AIC:                             2271.\n",
      "Df Residuals:                    1017   BIC:                             2290.\n",
      "Df Model:                           3                                         \n",
      "Covariance Type:            nonrobust                                         \n",
      "==============================================================================\n",
      "                 coef    std err          t      P>|t|      [0.025      0.975]\n",
      "------------------------------------------------------------------------------\n",
      "const         -0.0295      0.023     -1.283      0.200      -0.075       0.016\n",
      "x1             0.0839      0.024      3.570      0.000       0.038       0.130\n",
      "x2             0.1312      0.025      5.190      0.000       0.082       0.181\n",
      "x3             0.6542      0.025     25.933      0.000       0.605       0.704\n",
      "==============================================================================\n",
      "Omnibus:                      266.462   Durbin-Watson:                   2.099\n",
      "Prob(Omnibus):                  0.000   Jarque-Bera (JB):             1255.368\n",
      "Skew:                           1.132   Prob(JB):                    2.51e-273\n",
      "Kurtosis:                       7.938   Cond. No.                         1.37\n",
      "==============================================================================\n",
      "\n",
      "Warnings:\n",
      "[1] Standard Errors assume that the covariance matrix of the errors is correctly specified.\n"
     ]
    }
   ],
   "source": [
    "# Print results\n",
    "print(results.summary())"
   ]
  },
  {
   "cell_type": "markdown",
   "metadata": {
    "id": "kVQnWTGRBIdB"
   },
   "source": [
    "Dari output diatas, kita dapat melihat nilai - nilai :\n",
    "\n",
    "Nilai p>|t| = 0,000 ; 0,000 ; 0,000 kurang dari 0,05 artinya, bahwa ketiga variabel independen memberikan pengaruh secara signifikan terhadap variabel dependen, tetapi Nilai p>|t| intercept sebesar 0.2 yang berarti intercept tidak berpengaruh signifikan terhadap model dan garis regresi melewati titik pusat (0,0) oleh karena itu intercept atau konstanta boleh dihilangkan dari model.\n",
    "\n",
    "Nilai coef-X1 0,0839 artinya besarnya pengaruh variabel independen MSSubClass 0,0839 poin, pada kasus kali ini, jika nilai  MSSubClass bertambah satu, maka nilai sale price bertambah 0,0839\n",
    "\n",
    "Nilai coef-X2 0,1312 artinya besarnya pengaruh variabel independen LotArea 0,1312 poin, pada kasus kali ini, jika nilai  LotArea bertambah satu, maka nilai sale price bertambah 0,1312\n",
    "\n",
    "Nilai coef-X3 0,6542 artinya besarnya pengaruh variabel independen Total Bsm tSF 0,6542 poin, pada kasus kali ini, jika nilai  Total Bsm tSF bertambah satu, maka nilai sale price bertambah 0,6542\n",
    "\n",
    "Nilai R-squared 0,436, artinya variabel dependen sale price dapat dijelaskan oleh ketiga variabel independen sebesar 43,6% , makin besar nilai R-squared akan semakin bagus.\n",
    "\n",
    "Nilai AIC 2271 dan BIC 2290, nilai ini dapat digunakan ketika dalam analisis regresi menghasilkan beberapa model, dan dijadikan acuan untuk memilih model mana yang terbaik dengan melihat nilai AIC dan BIC yang terkecil."
   ]
  },
  {
   "cell_type": "code",
   "execution_count": null,
   "metadata": {
    "colab": {
     "base_uri": "https://localhost:8080/"
    },
    "executionInfo": {
     "elapsed": 580,
     "status": "ok",
     "timestamp": 1628718142001,
     "user": {
      "displayName": "Fitria Nur",
      "photoUrl": "",
      "userId": "14798815293212797090"
     },
     "user_tz": -420
    },
    "id": "_sEIoJbhj10r",
    "outputId": "94865d36-b470-4718-d756-ee47bdf0bede"
   },
   "outputs": [
    {
     "name": "stdout",
     "output_type": "stream",
     "text": [
      "coefficient of determination: 0.436429732788727\n",
      "adjusted coefficient of determination: 0.43476728362291206\n",
      "regression coefficients: [-0.02949082  0.08394389  0.13124888  0.65422479]\n"
     ]
    }
   ],
   "source": [
    "print('coefficient of determination:', results.rsquared)\n",
    "print('adjusted coefficient of determination:', results.rsquared_adj)\n",
    "print('regression coefficients:', results.params)"
   ]
  },
  {
   "cell_type": "code",
   "execution_count": null,
   "metadata": {
    "id": "87MfeaOH-cAt"
   },
   "outputs": [],
   "source": [
    "# membuat list\n",
    "list_columns = []\n",
    "\n",
    "for i in house_prices.columns:\n",
    "  if i != \"SalePrice\":\n",
    "    list_columns.append(i)"
   ]
  },
  {
   "cell_type": "code",
   "execution_count": null,
   "metadata": {
    "colab": {
     "base_uri": "https://localhost:8080/",
     "height": 206
    },
    "executionInfo": {
     "elapsed": 556,
     "status": "ok",
     "timestamp": 1628718144867,
     "user": {
      "displayName": "Fitria Nur",
      "photoUrl": "",
      "userId": "14798815293212797090"
     },
     "user_tz": -420
    },
    "id": "oT5Qoetmj10s",
    "outputId": "c34d1eeb-e9de-4fd6-acfa-918b1e19b836"
   },
   "outputs": [
    {
     "data": {
      "text/html": [
       "<div>\n",
       "<style scoped>\n",
       "    .dataframe tbody tr th:only-of-type {\n",
       "        vertical-align: middle;\n",
       "    }\n",
       "\n",
       "    .dataframe tbody tr th {\n",
       "        vertical-align: top;\n",
       "    }\n",
       "\n",
       "    .dataframe thead th {\n",
       "        text-align: right;\n",
       "    }\n",
       "</style>\n",
       "<table border=\"1\" class=\"dataframe\">\n",
       "  <thead>\n",
       "    <tr style=\"text-align: right;\">\n",
       "      <th></th>\n",
       "      <th>MSSubClass</th>\n",
       "      <th>LotArea</th>\n",
       "      <th>TotalBsmtSF</th>\n",
       "      <th>actual_price</th>\n",
       "      <th>prediction_price</th>\n",
       "    </tr>\n",
       "  </thead>\n",
       "  <tbody>\n",
       "    <tr>\n",
       "      <th>0</th>\n",
       "      <td>0.075174</td>\n",
       "      <td>0.118016</td>\n",
       "      <td>-0.796649</td>\n",
       "      <td>-0.013296</td>\n",
       "      <td>-0.528878</td>\n",
       "    </tr>\n",
       "    <tr>\n",
       "      <th>1</th>\n",
       "      <td>-0.635486</td>\n",
       "      <td>-0.264885</td>\n",
       "      <td>-0.769295</td>\n",
       "      <td>-1.838772</td>\n",
       "      <td>-0.620894</td>\n",
       "    </tr>\n",
       "    <tr>\n",
       "      <th>2</th>\n",
       "      <td>0.785833</td>\n",
       "      <td>-0.332928</td>\n",
       "      <td>-2.410510</td>\n",
       "      <td>-1.145091</td>\n",
       "      <td>-1.584237</td>\n",
       "    </tr>\n",
       "    <tr>\n",
       "      <th>3</th>\n",
       "      <td>0.785833</td>\n",
       "      <td>0.258410</td>\n",
       "      <td>1.528406</td>\n",
       "      <td>-0.482884</td>\n",
       "      <td>1.070312</td>\n",
       "    </tr>\n",
       "    <tr>\n",
       "      <th>4</th>\n",
       "      <td>-0.872372</td>\n",
       "      <td>0.172430</td>\n",
       "      <td>0.972216</td>\n",
       "      <td>-0.074984</td>\n",
       "      <td>0.555958</td>\n",
       "    </tr>\n",
       "  </tbody>\n",
       "</table>\n",
       "</div>"
      ],
      "text/plain": [
       "   MSSubClass   LotArea  TotalBsmtSF  actual_price  prediction_price\n",
       "0    0.075174  0.118016    -0.796649     -0.013296         -0.528878\n",
       "1   -0.635486 -0.264885    -0.769295     -1.838772         -0.620894\n",
       "2    0.785833 -0.332928    -2.410510     -1.145091         -1.584237\n",
       "3    0.785833  0.258410     1.528406     -0.482884          1.070312\n",
       "4   -0.872372  0.172430     0.972216     -0.074984          0.555958"
      ]
     },
     "execution_count": 81,
     "metadata": {
      "tags": []
     },
     "output_type": "execute_result"
    }
   ],
   "source": [
    "# Membuat Prediksi Model\n",
    "Input_test = sm.add_constant(X_test)\n",
    "prediction_1 = results.predict(Input_test)\n",
    "\n",
    "# Tampilkan dalam bentuk dataframe\n",
    "df_statsmod = pd.DataFrame(X_test, columns=list_columns)\n",
    "df_statsmod[\"actual_price\"] = y_test\n",
    "df_statsmod[\"prediction_price\"] = prediction_1\n",
    "df_statsmod.head()"
   ]
  },
  {
   "cell_type": "markdown",
   "metadata": {
    "id": "AgFtmB4SBWfM"
   },
   "source": [
    "#### Uji distrubusi residual"
   ]
  },
  {
   "cell_type": "code",
   "execution_count": null,
   "metadata": {
    "colab": {
     "base_uri": "https://localhost:8080/",
     "height": 265
    },
    "executionInfo": {
     "elapsed": 403,
     "status": "ok",
     "timestamp": 1628718147830,
     "user": {
      "displayName": "Fitria Nur",
      "photoUrl": "",
      "userId": "14798815293212797090"
     },
     "user_tz": -420
    },
    "id": "Dk7_Myc1j10s",
    "outputId": "0542a6b0-e1bc-43ea-9def-15e6fa0ddd87"
   },
   "outputs": [
    {
     "data": {
      "image/png": "[encoded data removed]",
      "text/plain": [
       "<Figure size 432x288 with 1 Axes>"
      ]
     },
     "metadata": {
      "needs_background": "light",
      "tags": []
     },
     "output_type": "display_data"
    }
   ],
   "source": [
    "# Melihat distribusi residual\n",
    "residual1 = df_statsmod['actual_price'] - df_statsmod['prediction_price']\n",
    "sns.distplot(residual1, label=\"residual\")\n",
    "plt.legend()\n",
    "plt.show()"
   ]
  },
  {
   "cell_type": "markdown",
   "metadata": {
    "id": "hM9oprjiBfJQ"
   },
   "source": [
    "Dari gambar diatas, plot residual yang dihasilkan membentuk lonceng, sehingga dapat disimpulkan residual berdistribusi normal "
   ]
  },
  {
   "cell_type": "code",
   "execution_count": null,
   "metadata": {
    "colab": {
     "base_uri": "https://localhost:8080/",
     "height": 206
    },
    "executionInfo": {
     "elapsed": 329,
     "status": "ok",
     "timestamp": 1628718156097,
     "user": {
      "displayName": "Fitria Nur",
      "photoUrl": "",
      "userId": "14798815293212797090"
     },
     "user_tz": -420
    },
    "id": "N-sJXq2Pj10s",
    "outputId": "aa30ae83-17ba-4c66-9d49-85a0b8f56c9e"
   },
   "outputs": [
    {
     "data": {
      "text/html": [
       "<div>\n",
       "<style scoped>\n",
       "    .dataframe tbody tr th:only-of-type {\n",
       "        vertical-align: middle;\n",
       "    }\n",
       "\n",
       "    .dataframe tbody tr th {\n",
       "        vertical-align: top;\n",
       "    }\n",
       "\n",
       "    .dataframe thead th {\n",
       "        text-align: right;\n",
       "    }\n",
       "</style>\n",
       "<table border=\"1\" class=\"dataframe\">\n",
       "  <thead>\n",
       "    <tr style=\"text-align: right;\">\n",
       "      <th></th>\n",
       "      <th>MSSubClass</th>\n",
       "      <th>LotArea</th>\n",
       "      <th>TotalBsmtSF</th>\n",
       "      <th>actual_price</th>\n",
       "      <th>prediction_price</th>\n",
       "      <th>residual</th>\n",
       "    </tr>\n",
       "  </thead>\n",
       "  <tbody>\n",
       "    <tr>\n",
       "      <th>0</th>\n",
       "      <td>0.075174</td>\n",
       "      <td>0.118016</td>\n",
       "      <td>-0.796649</td>\n",
       "      <td>-0.013296</td>\n",
       "      <td>-0.528878</td>\n",
       "      <td>0.515583</td>\n",
       "    </tr>\n",
       "    <tr>\n",
       "      <th>1</th>\n",
       "      <td>-0.635486</td>\n",
       "      <td>-0.264885</td>\n",
       "      <td>-0.769295</td>\n",
       "      <td>-1.838772</td>\n",
       "      <td>-0.620894</td>\n",
       "      <td>-1.217878</td>\n",
       "    </tr>\n",
       "    <tr>\n",
       "      <th>2</th>\n",
       "      <td>0.785833</td>\n",
       "      <td>-0.332928</td>\n",
       "      <td>-2.410510</td>\n",
       "      <td>-1.145091</td>\n",
       "      <td>-1.584237</td>\n",
       "      <td>0.439146</td>\n",
       "    </tr>\n",
       "    <tr>\n",
       "      <th>3</th>\n",
       "      <td>0.785833</td>\n",
       "      <td>0.258410</td>\n",
       "      <td>1.528406</td>\n",
       "      <td>-0.482884</td>\n",
       "      <td>1.070312</td>\n",
       "      <td>-1.553196</td>\n",
       "    </tr>\n",
       "    <tr>\n",
       "      <th>4</th>\n",
       "      <td>-0.872372</td>\n",
       "      <td>0.172430</td>\n",
       "      <td>0.972216</td>\n",
       "      <td>-0.074984</td>\n",
       "      <td>0.555958</td>\n",
       "      <td>-0.630942</td>\n",
       "    </tr>\n",
       "  </tbody>\n",
       "</table>\n",
       "</div>"
      ],
      "text/plain": [
       "   MSSubClass   LotArea  TotalBsmtSF  actual_price  prediction_price  residual\n",
       "0    0.075174  0.118016    -0.796649     -0.013296         -0.528878  0.515583\n",
       "1   -0.635486 -0.264885    -0.769295     -1.838772         -0.620894 -1.217878\n",
       "2    0.785833 -0.332928    -2.410510     -1.145091         -1.584237  0.439146\n",
       "3    0.785833  0.258410     1.528406     -0.482884          1.070312 -1.553196\n",
       "4   -0.872372  0.172430     0.972216     -0.074984          0.555958 -0.630942"
      ]
     },
     "execution_count": 83,
     "metadata": {
      "tags": []
     },
     "output_type": "execute_result"
    }
   ],
   "source": [
    "# Memasukkan residual kedalam dataframe\n",
    "df_statsmod[\"residual\"] = residual1\n",
    "df_statsmod.head()"
   ]
  },
  {
   "cell_type": "markdown",
   "metadata": {
    "id": "G8ROzQpaBlrG"
   },
   "source": [
    "Plot data actual dan prediction <br>\n",
    "Untuk membandingkan hasil data prediksi dengan data yang asli (actual), dapat dibentuk menjadi plot berikut : "
   ]
  },
  {
   "cell_type": "code",
   "execution_count": null,
   "metadata": {
    "colab": {
     "base_uri": "https://localhost:8080/",
     "height": 297
    },
    "executionInfo": {
     "elapsed": 1116,
     "status": "ok",
     "timestamp": 1628718159744,
     "user": {
      "displayName": "Fitria Nur",
      "photoUrl": "",
      "userId": "14798815293212797090"
     },
     "user_tz": -420
    },
    "id": "KroEhaPIj10t",
    "outputId": "f4668256-fa99-4f09-a676-94dfc6695ec6"
   },
   "outputs": [
    {
     "data": {
      "text/plain": [
       "<function matplotlib.pyplot.show>"
      ]
     },
     "execution_count": 84,
     "metadata": {
      "tags": []
     },
     "output_type": "execute_result"
    },
    {
     "data": {
      "image/png": "[encoded data removed]",
      "text/plain": [
       "<Figure size 432x288 with 1 Axes>"
      ]
     },
     "metadata": {
      "needs_background": "light",
      "tags": []
     },
     "output_type": "display_data"
    }
   ],
   "source": [
    "# Melihat perbedaan actual dan prediksi\n",
    "sns.distplot(df_statsmod['actual_price'], label=\"Actual\")\n",
    "sns.distplot(df_statsmod['prediction_price'], label=\"Predicted\")\n",
    "plt.legend()\n",
    "plt.show"
   ]
  },
  {
   "cell_type": "markdown",
   "metadata": {
    "id": "SJ5b4fHYh1HE"
   },
   "source": [
    "#### Asumsi No autokorelasi"
   ]
  },
  {
   "cell_type": "markdown",
   "metadata": {
    "id": "aN6Z3p779Q7C"
   },
   "source": [
    "Skor Durbin-Watson antara 1,5 dan 2,5 maka tidak ada autokorelasi dan asumsi puas.\n"
   ]
  },
  {
   "cell_type": "code",
   "execution_count": null,
   "metadata": {
    "colab": {
     "base_uri": "https://localhost:8080/"
    },
    "executionInfo": {
     "elapsed": 449,
     "status": "ok",
     "timestamp": 1628718165302,
     "user": {
      "displayName": "Fitria Nur",
      "photoUrl": "",
      "userId": "14798815293212797090"
     },
     "user_tz": -420
    },
    "id": "gbz5zDm1hxwg",
    "outputId": "8959a578-8e29-48f2-c8da-f121720476df"
   },
   "outputs": [
    {
     "data": {
      "text/plain": [
       "2.0994450597456287"
      ]
     },
     "execution_count": 85,
     "metadata": {
      "tags": []
     },
     "output_type": "execute_result"
    }
   ],
   "source": [
    "statsmodels.stats.stattools.durbin_watson(results.resid, axis=0)"
   ]
  },
  {
   "cell_type": "markdown",
   "metadata": {
    "id": "re7Hg6lODTlp"
   },
   "source": [
    "#### Uji Homoskedasitas"
   ]
  },
  {
   "cell_type": "markdown",
   "metadata": {
    "id": "YO5v0W2YiEQP"
   },
   "source": [
    "Uji Homoskedasitas untuk melihat apakah terdapat ketidaksamaan varians dari residual satu ke pengamatan ke pengamatan yang lain, dari grafik yang dihasilkan dibawah ini, terlihat data berkumpul dalam satu pusat sehingga dapat dikatakan homoskedasitas terpenuhi\n"
   ]
  },
  {
   "cell_type": "code",
   "execution_count": null,
   "metadata": {
    "colab": {
     "base_uri": "https://localhost:8080/",
     "height": 294
    },
    "executionInfo": {
     "elapsed": 617,
     "status": "ok",
     "timestamp": 1628718168417,
     "user": {
      "displayName": "Fitria Nur",
      "photoUrl": "",
      "userId": "14798815293212797090"
     },
     "user_tz": -420
    },
    "id": "OvqD4Q8JiEgT",
    "outputId": "f51f248c-5a6b-415a-e08e-aadccab4d638"
   },
   "outputs": [
    {
     "data": {
      "image/png": "[encoded data removed]",
      "text/plain": [
       "<Figure size 432x288 with 1 Axes>"
      ]
     },
     "metadata": {
      "needs_background": "light",
      "tags": []
     },
     "output_type": "display_data"
    }
   ],
   "source": [
    "asm_homosk = plt.scatter(df_statsmod['prediction_price'], df_statsmod[\"residual\"])\n",
    "plt.xlabel('predicted')\n",
    "plt.ylabel('Residuals')\n",
    "asm_homosk = sns.lineplot([-3,9],[0,0],color='red')\n",
    "asm_homosk = plt.title('Residuals vs Prediction')"
   ]
  },
  {
   "cell_type": "markdown",
   "metadata": {
    "id": "o814U9vjDlTo"
   },
   "source": [
    "## Evaluation Model"
   ]
  },
  {
   "cell_type": "code",
   "execution_count": null,
   "metadata": {
    "colab": {
     "base_uri": "https://localhost:8080/"
    },
    "executionInfo": {
     "elapsed": 327,
     "status": "ok",
     "timestamp": 1628718170527,
     "user": {
      "displayName": "Fitria Nur",
      "photoUrl": "",
      "userId": "14798815293212797090"
     },
     "user_tz": -420
    },
    "id": "zerz1345DlUx",
    "outputId": "a2877d52-005f-4818-ab67-4c6dbcc5949f"
   },
   "outputs": [
    {
     "name": "stdout",
     "output_type": "stream",
     "text": [
      "R-square : 0.2905394428318363\n"
     ]
    }
   ],
   "source": [
    "# R-square\n",
    "print('R-square :', metrics.r2_score(df_statsmod['actual_price'], df_statsmod['prediction_price']))"
   ]
  },
  {
   "cell_type": "code",
   "execution_count": null,
   "metadata": {
    "colab": {
     "base_uri": "https://localhost:8080/"
    },
    "executionInfo": {
     "elapsed": 349,
     "status": "ok",
     "timestamp": 1628718173142,
     "user": {
      "displayName": "Fitria Nur",
      "photoUrl": "",
      "userId": "14798815293212797090"
     },
     "user_tz": -420
    },
    "id": "7hweVpeiii_9",
    "outputId": "a7a4c272-bc9b-4f96-f816-aa31ccc19b10"
   },
   "outputs": [
    {
     "name": "stdout",
     "output_type": "stream",
     "text": [
      "MSE : 0.7822772785532602\n"
     ]
    }
   ],
   "source": [
    "# MSE\n",
    "print('MSE :', metrics.mean_squared_error(df_statsmod['actual_price'], df_statsmod['prediction_price']))"
   ]
  },
  {
   "cell_type": "markdown",
   "metadata": {
    "id": "AgdyFutv_QZn"
   },
   "source": [
    "##Uji Partial Analisis Regresi\n",
    "**Uji Parameter T-test** memiliki tujuan, apakah variabel independent(X) memberikan pengaruh secara partial terhadap variabel dependent (Y)"
   ]
  },
  {
   "cell_type": "code",
   "execution_count": null,
   "metadata": {
    "colab": {
     "base_uri": "https://localhost:8080/"
    },
    "executionInfo": {
     "elapsed": 336,
     "status": "ok",
     "timestamp": 1628718175709,
     "user": {
      "displayName": "Fitria Nur",
      "photoUrl": "",
      "userId": "14798815293212797090"
     },
     "user_tz": -420
    },
    "id": "yzWGDKKuikuI",
    "outputId": "5593fd5d-1385-4eb1-a0f9-1b12eadf5a7f"
   },
   "outputs": [
    {
     "name": "stdout",
     "output_type": "stream",
     "text": [
      "T-test score const:  -1.2832727194991982\n",
      "T-test score X1:  3.569620087966031\n",
      "T-test score X2:  5.18971790500305\n",
      "T-test score X3:  25.93328974783536\n"
     ]
    }
   ],
   "source": [
    "t_test_const, t_test_X1, t_test_X2, t_test_X3 = results.tvalues\n",
    "print(\"T-test score const: \", t_test_const)\n",
    "print(\"T-test score X1: \", t_test_X1)\n",
    "print(\"T-test score X2: \", t_test_X2)\n",
    "print(\"T-test score X3: \", t_test_X3)"
   ]
  },
  {
   "cell_type": "code",
   "execution_count": null,
   "metadata": {
    "colab": {
     "base_uri": "https://localhost:8080/"
    },
    "executionInfo": {
     "elapsed": 319,
     "status": "ok",
     "timestamp": 1628718180054,
     "user": {
      "displayName": "Fitria Nur",
      "photoUrl": "",
      "userId": "14798815293212797090"
     },
     "user_tz": -420
    },
    "id": "HM8OsatxGYnU",
    "outputId": "3a2b1207-525b-443d-f996-603a486da51f"
   },
   "outputs": [
    {
     "name": "stdout",
     "output_type": "stream",
     "text": [
      "P-value const:  0.19968888703244417\n",
      "P-value X1:  0.00037420098840833683\n",
      "P-value X2:  2.542028628478725e-07\n",
      "P-value X3:  3.1664753307254235e-114\n"
     ]
    }
   ],
   "source": [
    "\n",
    "p_value_const, p_value_X1, p_value_X2, p_value_X3 = results.pvalues\n",
    "print(\"P-value const: \", p_value_const)\n",
    "print(\"P-value X1: \", p_value_X1)\n",
    "print(\"P-value X2: \", p_value_X2)\n",
    "print(\"P-value X3: \", p_value_X3)"
   ]
  },
  {
   "cell_type": "markdown",
   "metadata": {
    "id": "6ir91ry-_YaH"
   },
   "source": [
    "Diperoleh dari output diatas, bahwa P-value ketiga variabel kurang dari 0,05 sehingga Hypothesis null ditolak dan dapat disimpulkan, bahwa ketiga variabel independen (X) memberikan pengaruh secara signifikan pada variabel dependen Sale Price (Y)."
   ]
  },
  {
   "cell_type": "markdown",
   "metadata": {
    "id": "10K54oDh_fqQ"
   },
   "source": [
    "**Uji kelayakan model F-test** memilki tujuan, apakah model yang dibentuk layak digunakan atau tidak"
   ]
  },
  {
   "cell_type": "code",
   "execution_count": null,
   "metadata": {
    "colab": {
     "base_uri": "https://localhost:8080/"
    },
    "executionInfo": {
     "elapsed": 400,
     "status": "ok",
     "timestamp": 1628718191238,
     "user": {
      "displayName": "Fitria Nur",
      "photoUrl": "",
      "userId": "14798815293212797090"
     },
     "user_tz": -420
    },
    "id": "OfXESi4KioI1",
    "outputId": "b25e9e81-9cac-4c83-9090-3ef7e981a644"
   },
   "outputs": [
    {
     "name": "stdout",
     "output_type": "stream",
     "text": [
      "f-test score :  262.5221521133134\n",
      "P-value :  3.832851453942854e-126\n",
      "Tolak H0\n"
     ]
    }
   ],
   "source": [
    "f_value = results.fvalue\n",
    "print(\"f-test score : \", f_value)\n",
    "\n",
    "p_value = results.f_pvalue\n",
    "print(\"P-value : \", p_value)\n",
    "\n",
    "if p_value < 0.05:\n",
    "  print(\"Tolak H0\")\n",
    "else:\n",
    "  print(\"Terima H0\")"
   ]
  },
  {
   "cell_type": "markdown",
   "metadata": {
    "id": "wyVzUBE1_ikX"
   },
   "source": [
    "Dari output diatas, diperoleh p-value kurang dari 0,05 sehingga hypothesis null ditolak dan dapat disimpulkan bahwa model regresi dari ketiga variabel independen dan variabel dependen Sale Price (Y) layak digunakan."
   ]
  },
  {
   "cell_type": "markdown",
   "metadata": {
    "id": "flZmVpPOj10t"
   },
   "source": [
    "# Notes"
   ]
  },
  {
   "cell_type": "markdown",
   "metadata": {
    "id": "zkthZjHzj10t"
   },
   "source": [
    "* Linear Assumption. Linear regression assumes that the relationship between your input and output is linear. It does not support anything else. This may be obvious, but it is good to remember when you have a lot of attributes. You may need to transform data to make the relationship linear (e.g. log transform for an exponential relationship).\n",
    "* The residual error plot should be normally distributed.\n",
    "* The mean of residual error should be 0 or close to 0 as much as possible\n",
    "* Remove Noise. Linear regression assumes that your input and output variables are not noisy. Consider using data cleaning operations that let you better expose and clarify the signal in your data. This is most important for the output variable and you want to remove outliers in the output variable (y) if possible.\n",
    "* Remove Collinearity. Linear regression will over-fit your data when you have highly correlated input variables. Consider calculating pairwise correlations for your input data and removing the most correlated.\n",
    "* Gaussian Distributions. Linear regression will make more reliable predictions if your input and output variables have a Gaussian distribution. You may get some benefit using transforms (e.g. log or BoxCox) on you variables to make their distribution more Gaussian looking.\n",
    "* Rescale Inputs: Linear regression will often make more reliable predictions if you rescale input variables using standardization or normalization."
   ]
  }
 ],
 "metadata": {
  "colab": {
   "collapsed_sections": [],
   "name": "Multiple Linear Regression.ipynb",
   "provenance": [
    {
     "file_id": "1cPOqouZ_xYQj_IBVW3z8vXOi8kcyjmGo",
     "timestamp": 1613222862504
    }
   ]
  },
  "kernelspec": {
   "display_name": "Python 3",
   "language": "python",
   "name": "python3"
  },
  "language_info": {
   "codemirror_mode": {
    "name": "ipython",
    "version": 3
   },
   "file_extension": ".py",
   "mimetype": "text/x-python",
   "name": "python",
   "nbconvert_exporter": "python",
   "pygments_lexer": "ipython3",
   "version": "3.8.3"
  },
  "toc-autonumbering": false
 },
 "nbformat": 4,
 "nbformat_minor": 1
}
